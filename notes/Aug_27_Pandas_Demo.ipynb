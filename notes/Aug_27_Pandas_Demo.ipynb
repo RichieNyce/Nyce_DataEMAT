{
 "cells": [
  {
   "cell_type": "markdown",
   "id": "98a00523-2b73-4b6a-a3d9-4694754e631f",
   "metadata": {},
   "source": [
    "# Pandas Demo\n",
    "\n",
    "## Richie Nyce\n",
    "\n",
    "### August 27th, 2025\n",
    "\n",
    "In this notebook we will DEMO Pandas python library.\n",
    "\n",
    "---\n",
    "\n",
    "## Setup\n",
    "\n",
    "Import JSON and Pandas lib."
   ]
  },
  {
   "cell_type": "code",
   "execution_count": 17,
   "id": "470c3bae-4255-4564-9cd0-a7dba58118f1",
   "metadata": {},
   "outputs": [],
   "source": [
    "import json as js\n",
    "import pandas as pd"
   ]
  },
  {
   "cell_type": "markdown",
   "id": "f9c81206-f2fe-42e5-baf8-f3373ca8b3dd",
   "metadata": {},
   "source": [
    "Load ads activity\n",
    "\n",
    "Load the ads json data into Jypyter Notebook"
   ]
  },
  {
   "cell_type": "code",
   "execution_count": 18,
   "id": "72b96237-fe42-4d74-8ff1-955ba8119126",
   "metadata": {},
   "outputs": [],
   "source": [
    "path = r'/Users/richardnyce/School/!-2025/2025 Fall/Data in EMAT/002-JSON Load/Instagram Data/ads_information/instagram_ads_and_businesses/advertisers_using_your_activity_or_information.json'"
   ]
  },
  {
   "cell_type": "code",
   "execution_count": 19,
   "id": "6d49c786-c01b-43ae-89b1-56708003a148",
   "metadata": {},
   "outputs": [],
   "source": [
    "with open(path) as op:\n",
    "    data = js.load(op)"
   ]
  },
  {
   "cell_type": "markdown",
   "id": "e87df3f3-a8f1-44c1-847e-eb022cc7a1c3",
   "metadata": {},
   "source": [
    "Describe the data\n",
    "\n",
    "List keys"
   ]
  },
  {
   "cell_type": "code",
   "execution_count": 20,
   "id": "d325f22c-aaa2-4950-af2b-2be84a4b7b06",
   "metadata": {},
   "outputs": [
    {
     "data": {
      "text/plain": [
       "dict_keys(['ig_custom_audiences_all_types'])"
      ]
     },
     "execution_count": 20,
     "metadata": {},
     "output_type": "execute_result"
    }
   ],
   "source": [
    "data.keys()"
   ]
  },
  {
   "cell_type": "markdown",
   "id": "86a8a7f3-d0e0-4806-8d0e-8d5226082d97",
   "metadata": {},
   "source": [
    "- What type of data?"
   ]
  },
  {
   "cell_type": "code",
   "execution_count": 21,
   "id": "cb68957d-1747-4f1d-ba57-a7e853f81d4f",
   "metadata": {},
   "outputs": [
    {
     "data": {
      "text/plain": [
       "list"
      ]
     },
     "execution_count": 21,
     "metadata": {},
     "output_type": "execute_result"
    }
   ],
   "source": [
    "type(data['ig_custom_audiences_all_types'])"
   ]
  },
  {
   "cell_type": "markdown",
   "id": "64202482-aa8f-4275-8263-29f6efb8c387",
   "metadata": {},
   "source": [
    "- Check how many reconds are in our json object."
   ]
  },
  {
   "cell_type": "code",
   "execution_count": 22,
   "id": "96011885-16b3-44e8-bcd6-b8a1e302b754",
   "metadata": {},
   "outputs": [
    {
     "data": {
      "text/plain": [
       "1746"
      ]
     },
     "execution_count": 22,
     "metadata": {},
     "output_type": "execute_result"
    }
   ],
   "source": [
    "len(data['ig_custom_audiences_all_types'])"
   ]
  },
  {
   "cell_type": "markdown",
   "id": "3c0fd58c-8db1-42a0-834f-fd80579964df",
   "metadata": {},
   "source": [
    "Let us look at the first record. **STOP STEALING MY DATA**"
   ]
  },
  {
   "cell_type": "code",
   "execution_count": 23,
   "id": "6346f9cd-0cfe-4ed5-a0dd-a93dcea93fb9",
   "metadata": {},
   "outputs": [
    {
     "data": {
      "text/plain": [
       "{'advertiser_name': 'Universal Music France',\n",
       " 'has_data_file_custom_audience': True,\n",
       " 'has_remarketing_custom_audience': False,\n",
       " 'has_in_person_store_visit': False}"
      ]
     },
     "execution_count": 23,
     "metadata": {},
     "output_type": "execute_result"
    }
   ],
   "source": [
    "data['ig_custom_audiences_all_types'][0]"
   ]
  },
  {
   "cell_type": "code",
   "execution_count": 24,
   "id": "7d8e21ad-ff50-4fb9-a4b0-7e7db6d2b752",
   "metadata": {},
   "outputs": [
    {
     "data": {
      "text/plain": [
       "dict_keys(['advertiser_name', 'has_data_file_custom_audience', 'has_remarketing_custom_audience', 'has_in_person_store_visit'])"
      ]
     },
     "execution_count": 24,
     "metadata": {},
     "output_type": "execute_result"
    }
   ],
   "source": [
    "data['ig_custom_audiences_all_types'][0].keys()"
   ]
  },
  {
   "cell_type": "markdown",
   "id": "959d109f-3c02-4257-b385-4c1804c789c7",
   "metadata": {},
   "source": [
    "## Using Pandas Library"
   ]
  },
  {
   "cell_type": "code",
   "execution_count": 27,
   "id": "e6bdbda3-585b-4e0b-b028-72c68f0b3b96",
   "metadata": {},
   "outputs": [],
   "source": [
    "ads_df = pd.DataFrame(data['ig_custom_audiences_all_types'])"
   ]
  },
  {
   "cell_type": "markdown",
   "id": "ad14676d-92f6-4b27-bfc8-6a70406d64b5",
   "metadata": {},
   "source": [
    "Show list 5 records (IG)"
   ]
  },
  {
   "cell_type": "code",
   "execution_count": 32,
   "id": "355a2b54-c8cb-47c1-ba84-9331718c6870",
   "metadata": {},
   "outputs": [
    {
     "data": {
      "text/html": [
       "<div>\n",
       "<style scoped>\n",
       "    .dataframe tbody tr th:only-of-type {\n",
       "        vertical-align: middle;\n",
       "    }\n",
       "\n",
       "    .dataframe tbody tr th {\n",
       "        vertical-align: top;\n",
       "    }\n",
       "\n",
       "    .dataframe thead th {\n",
       "        text-align: right;\n",
       "    }\n",
       "</style>\n",
       "<table border=\"1\" class=\"dataframe\">\n",
       "  <thead>\n",
       "    <tr style=\"text-align: right;\">\n",
       "      <th></th>\n",
       "      <th>advertiser_name</th>\n",
       "      <th>has_data_file_custom_audience</th>\n",
       "      <th>has_remarketing_custom_audience</th>\n",
       "      <th>has_in_person_store_visit</th>\n",
       "    </tr>\n",
       "  </thead>\n",
       "  <tbody>\n",
       "    <tr>\n",
       "      <th>0</th>\n",
       "      <td>Universal Music France</td>\n",
       "      <td>True</td>\n",
       "      <td>False</td>\n",
       "      <td>False</td>\n",
       "    </tr>\n",
       "    <tr>\n",
       "      <th>1</th>\n",
       "      <td>Southern California Edison</td>\n",
       "      <td>True</td>\n",
       "      <td>False</td>\n",
       "      <td>False</td>\n",
       "    </tr>\n",
       "  </tbody>\n",
       "</table>\n",
       "</div>"
      ],
      "text/plain": [
       "              advertiser_name  has_data_file_custom_audience  \\\n",
       "0      Universal Music France                           True   \n",
       "1  Southern California Edison                           True   \n",
       "\n",
       "   has_remarketing_custom_audience  has_in_person_store_visit  \n",
       "0                            False                      False  \n",
       "1                            False                      False  "
      ]
     },
     "execution_count": 32,
     "metadata": {},
     "output_type": "execute_result"
    }
   ],
   "source": [
    "ads_df.head(2)"
   ]
  },
  {
   "cell_type": "code",
   "execution_count": 33,
   "id": "9f8a6141-a3b0-4942-92b5-2c628cc9c08b",
   "metadata": {},
   "outputs": [
    {
     "data": {
      "text/html": [
       "<div>\n",
       "<style scoped>\n",
       "    .dataframe tbody tr th:only-of-type {\n",
       "        vertical-align: middle;\n",
       "    }\n",
       "\n",
       "    .dataframe tbody tr th {\n",
       "        vertical-align: top;\n",
       "    }\n",
       "\n",
       "    .dataframe thead th {\n",
       "        text-align: right;\n",
       "    }\n",
       "</style>\n",
       "<table border=\"1\" class=\"dataframe\">\n",
       "  <thead>\n",
       "    <tr style=\"text-align: right;\">\n",
       "      <th></th>\n",
       "      <th>advertiser_name</th>\n",
       "      <th>has_data_file_custom_audience</th>\n",
       "      <th>has_remarketing_custom_audience</th>\n",
       "      <th>has_in_person_store_visit</th>\n",
       "    </tr>\n",
       "  </thead>\n",
       "  <tbody>\n",
       "    <tr>\n",
       "      <th>1743</th>\n",
       "      <td>GreatestHighlights</td>\n",
       "      <td>True</td>\n",
       "      <td>False</td>\n",
       "      <td>False</td>\n",
       "    </tr>\n",
       "    <tr>\n",
       "      <th>1744</th>\n",
       "      <td>Ash &amp; Erie</td>\n",
       "      <td>True</td>\n",
       "      <td>False</td>\n",
       "      <td>False</td>\n",
       "    </tr>\n",
       "    <tr>\n",
       "      <th>1745</th>\n",
       "      <td>Rally</td>\n",
       "      <td>True</td>\n",
       "      <td>False</td>\n",
       "      <td>False</td>\n",
       "    </tr>\n",
       "  </tbody>\n",
       "</table>\n",
       "</div>"
      ],
      "text/plain": [
       "         advertiser_name  has_data_file_custom_audience  \\\n",
       "1743  GreatestHighlights                           True   \n",
       "1744          Ash & Erie                           True   \n",
       "1745               Rally                           True   \n",
       "\n",
       "      has_remarketing_custom_audience  has_in_person_store_visit  \n",
       "1743                            False                      False  \n",
       "1744                            False                      False  \n",
       "1745                            False                      False  "
      ]
     },
     "execution_count": 33,
     "metadata": {},
     "output_type": "execute_result"
    }
   ],
   "source": [
    "ads_df.tail(3)"
   ]
  },
  {
   "cell_type": "markdown",
   "id": "be28f414-9dc6-46a9-9f54-eb8562059ebf",
   "metadata": {},
   "source": [
    "Shape of the Data"
   ]
  },
  {
   "cell_type": "code",
   "execution_count": 39,
   "id": "dabb112a-c2c3-4354-b322-8968fda05b7f",
   "metadata": {},
   "outputs": [
    {
     "data": {
      "text/plain": [
       "pandas.core.frame.DataFrame"
      ]
     },
     "execution_count": 39,
     "metadata": {},
     "output_type": "execute_result"
    }
   ],
   "source": [
    "type(ads_df)"
   ]
  }
 ],
 "metadata": {
  "kernelspec": {
   "display_name": "Python 3 (ipykernel)",
   "language": "python",
   "name": "python3"
  },
  "language_info": {
   "codemirror_mode": {
    "name": "ipython",
    "version": 3
   },
   "file_extension": ".py",
   "mimetype": "text/x-python",
   "name": "python",
   "nbconvert_exporter": "python",
   "pygments_lexer": "ipython3",
   "version": "3.12.11"
  }
 },
 "nbformat": 4,
 "nbformat_minor": 5
}
