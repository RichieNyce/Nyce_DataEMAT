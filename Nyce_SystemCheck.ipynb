{
 "cells": [
  {
   "cell_type": "markdown",
   "id": "80f4264f-8525-446a-9c50-109cc1c47179",
   "metadata": {},
   "source": [
    "# Systems Check\n",
    "\n",
    "## Richie Nyce\n",
    "\n",
    "### 8/20/2025\n",
    "\n",
    "In this class, I want to learn more about **APIs** and how they run.\n",
    "Additionally, I want to learn more about:\n",
    "- Python\n",
    "- Terminal Commands\n",
    "- Jupyter Notebook\n",
    "\n",
    "![Dogs](https://encrypted-tbn2.gstatic.com/images?q=tbn:ANd9GcQpflckqTzo_CVJxHUPahKCrnIL3d2DIJn1ThfaalZfK682pUAn3mFidzfZM_yuLhNwHlLHRd_UkAVb_KZQfj4pnA)\n"
   ]
  },
  {
   "cell_type": "code",
   "execution_count": 2,
   "id": "2bb18a83-5421-4455-854c-513a1cc0fc0f",
   "metadata": {},
   "outputs": [
    {
     "name": "stdin",
     "output_type": "stream",
     "text": [
      "Enter your name:  Richie\n"
     ]
    },
    {
     "name": "stdout",
     "output_type": "stream",
     "text": [
      "Hello Richie\n"
     ]
    }
   ],
   "source": [
    "name = input(\"Enter your name: \")\n",
    "print(\"Hello\", name)"
   ]
  },
  {
   "cell_type": "code",
   "execution_count": 4,
   "id": "1d0157d6-f08b-4188-9d5a-1392d1685f24",
   "metadata": {},
   "outputs": [
    {
     "name": "stdout",
     "output_type": "stream",
     "text": [
      "Number: 0\n",
      "Number: 1\n",
      "Number: 2\n",
      "Number: 3\n",
      "Number: 4\n"
     ]
    }
   ],
   "source": [
    "count = 5\n",
    "\n",
    "for i in range(count):\n",
    "    print(\"Number:\", i)"
   ]
  },
  {
   "cell_type": "code",
   "execution_count": null,
   "id": "04c54d43-da90-4538-884a-ac406b65e487",
   "metadata": {},
   "outputs": [],
   "source": []
  }
 ],
 "metadata": {
  "kernelspec": {
   "display_name": "Python 3 (ipykernel)",
   "language": "python",
   "name": "python3"
  },
  "language_info": {
   "codemirror_mode": {
    "name": "ipython",
    "version": 3
   },
   "file_extension": ".py",
   "mimetype": "text/x-python",
   "name": "python",
   "nbconvert_exporter": "python",
   "pygments_lexer": "ipython3",
   "version": "3.12.11"
  }
 },
 "nbformat": 4,
 "nbformat_minor": 5
}
